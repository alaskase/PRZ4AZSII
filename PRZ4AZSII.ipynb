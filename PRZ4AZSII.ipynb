{
  "nbformat": 4,
  "nbformat_minor": 0,
  "metadata": {
    "colab": {
      "provenance": []
    },
    "kernelspec": {
      "name": "python3",
      "display_name": "Python 3"
    },
    "language_info": {
      "name": "python"
    }
  },
  "cells": [
    {
      "cell_type": "markdown",
      "source": [
        "## Практическая работа №4.\n",
        "## Выполнил: Росляков Владислав Александрович\n",
        "## Группа: ББМО-01-23"
      ],
      "metadata": {
        "id": "zmQa-Lc2NNIw"
      }
    },
    {
      "cell_type": "markdown",
      "source": [
        "## Шаг 1. Загружаем обученную модель и данные MNIST"
      ],
      "metadata": {
        "id": "MYlDrWTaNe2C"
      }
    },
    {
      "cell_type": "code",
      "execution_count": 8,
      "metadata": {
        "colab": {
          "base_uri": "https://localhost:8080/"
        },
        "id": "gJqCar11CrTx",
        "outputId": "db563125-4cdd-48ce-d929-205e1a0b764f"
      },
      "outputs": [
        {
          "output_type": "stream",
          "name": "stderr",
          "text": [
            "WARNING:absl:Compiled the loaded model, but the compiled metrics have yet to be built. `model.compile_metrics` will be empty until you train or evaluate the model.\n"
          ]
        },
        {
          "output_type": "stream",
          "name": "stdout",
          "text": [
            "\u001b[1m313/313\u001b[0m \u001b[32m━━━━━━━━━━━━━━━━━━━━\u001b[0m\u001b[37m\u001b[0m \u001b[1m2s\u001b[0m 5ms/step - accuracy: 0.9748 - loss: 0.0836\n",
            "Test accuracy on clean images: 0.9772999882698059\n"
          ]
        }
      ],
      "source": [
        "import tensorflow as tf\n",
        "from tensorflow.keras.datasets import mnist\n",
        "from tensorflow.keras.utils import to_categorical\n",
        "\n",
        "# Загрузка и подготовка данных MNIST\n",
        "def prepare_test_data():\n",
        "    _, (images, labels) = mnist.load_data()\n",
        "    images = images / 255.0  # Нормализация\n",
        "    labels = to_categorical(labels, num_classes=10)  # One-hot encoding\n",
        "    return images, labels\n",
        "\n",
        "# Загрузка модели и проверка её точности\n",
        "def evaluate_trained_model(model_path, images, labels):\n",
        "    model = tf.keras.models.load_model(model_path)\n",
        "    loss, accuracy = model.evaluate(images, labels)\n",
        "    print(f'Test accuracy on clean images: {accuracy}')\n",
        "\n",
        "# Основной код\n",
        "test_images, test_labels = prepare_test_data()\n",
        "evaluate_trained_model('mnist_model.h5', test_images, test_labels)\n"
      ]
    },
    {
      "cell_type": "markdown",
      "source": [
        "## Шаг 2: Реализуем атаку DeepFool"
      ],
      "metadata": {
        "id": "CgtCE3C2Nnlj"
      }
    },
    {
      "cell_type": "code",
      "source": [
        "pip install foolbox"
      ],
      "metadata": {
        "colab": {
          "base_uri": "https://localhost:8080/"
        },
        "id": "PwEJSKdxDtP2",
        "outputId": "2b4045af-9142-4eb1-9075-5898307f19f6"
      },
      "execution_count": 5,
      "outputs": [
        {
          "output_type": "stream",
          "name": "stdout",
          "text": [
            "Collecting foolbox\n",
            "  Downloading foolbox-3.3.4-py3-none-any.whl.metadata (7.3 kB)\n",
            "Requirement already satisfied: numpy in /usr/local/lib/python3.10/dist-packages (from foolbox) (1.26.4)\n",
            "Requirement already satisfied: scipy in /usr/local/lib/python3.10/dist-packages (from foolbox) (1.13.1)\n",
            "Requirement already satisfied: setuptools in /usr/local/lib/python3.10/dist-packages (from foolbox) (75.1.0)\n",
            "Collecting eagerpy>=0.30.0 (from foolbox)\n",
            "  Downloading eagerpy-0.30.0-py3-none-any.whl.metadata (5.5 kB)\n",
            "Requirement already satisfied: GitPython>=3.0.7 in /usr/local/lib/python3.10/dist-packages (from foolbox) (3.1.43)\n",
            "Requirement already satisfied: typing-extensions>=3.7.4.1 in /usr/local/lib/python3.10/dist-packages (from foolbox) (4.12.2)\n",
            "Requirement already satisfied: requests>=2.24.0 in /usr/local/lib/python3.10/dist-packages (from foolbox) (2.32.3)\n",
            "Requirement already satisfied: gitdb<5,>=4.0.1 in /usr/local/lib/python3.10/dist-packages (from GitPython>=3.0.7->foolbox) (4.0.11)\n",
            "Requirement already satisfied: charset-normalizer<4,>=2 in /usr/local/lib/python3.10/dist-packages (from requests>=2.24.0->foolbox) (3.4.0)\n",
            "Requirement already satisfied: idna<4,>=2.5 in /usr/local/lib/python3.10/dist-packages (from requests>=2.24.0->foolbox) (3.10)\n",
            "Requirement already satisfied: urllib3<3,>=1.21.1 in /usr/local/lib/python3.10/dist-packages (from requests>=2.24.0->foolbox) (2.2.3)\n",
            "Requirement already satisfied: certifi>=2017.4.17 in /usr/local/lib/python3.10/dist-packages (from requests>=2.24.0->foolbox) (2024.8.30)\n",
            "Requirement already satisfied: smmap<6,>=3.0.1 in /usr/local/lib/python3.10/dist-packages (from gitdb<5,>=4.0.1->GitPython>=3.0.7->foolbox) (5.0.1)\n",
            "Downloading foolbox-3.3.4-py3-none-any.whl (1.7 MB)\n",
            "\u001b[2K   \u001b[90m━━━━━━━━━━━━━━━━━━━━━━━━━━━━━━━━━━━━━━━━\u001b[0m \u001b[32m1.7/1.7 MB\u001b[0m \u001b[31m18.4 MB/s\u001b[0m eta \u001b[36m0:00:00\u001b[0m\n",
            "\u001b[?25hDownloading eagerpy-0.30.0-py3-none-any.whl (31 kB)\n",
            "Installing collected packages: eagerpy, foolbox\n",
            "Successfully installed eagerpy-0.30.0 foolbox-3.3.4\n"
          ]
        }
      ]
    },
    {
      "cell_type": "code",
      "source": [
        "import torch\n",
        "import torch.nn as nn\n",
        "import foolbox as fb\n",
        "import numpy as np\n",
        "import matplotlib.pyplot as plt\n",
        "import tensorflow as tf\n",
        "\n",
        "# Создание модели Foolbox с заданными границами\n",
        "foolbox_model = fb.TensorFlowModel(model, bounds=(-1, 1))\n",
        "\n",
        "# Выбор тестового изображения и метки\n",
        "test_image = tf.convert_to_tensor(test_images[2], dtype=tf.float32)[None, ...]\n",
        "true_label = tf.convert_to_tensor(np.argmax(test_labels[0]), dtype=tf.int64)\n",
        "\n",
        "# Инициализация и выполнение атаки DeepFool\n",
        "deepfool_attack = fb.attacks.L2DeepFoolAttack(steps=400)\n",
        "adversarial_images, _, is_successful = deepfool_attack(foolbox_model, test_image, true_label[None], epsilons=0.01)\n",
        "\n",
        "# Отображение исходного и противоречивого изображений\n",
        "fig, axes = plt.subplots(1, 2, figsize=(10, 5))\n",
        "\n",
        "axes[0].set_title(\"Оригинальное изображение\")\n",
        "axes[0].imshow(test_image[0].numpy(), cmap=\"gray\")\n",
        "axes[0].axis(\"off\")\n",
        "\n",
        "axes[1].set_title(\"Адвесариальное изображение (DeepFool)\")\n",
        "axes[1].imshow(adversarial_images[0].numpy(), cmap=\"gray\")\n",
        "axes[1].axis(\"off\")\n",
        "\n",
        "plt.tight_layout()\n",
        "plt.show()\n"
      ],
      "metadata": {
        "colab": {
          "base_uri": "https://localhost:8080/",
          "height": 523
        },
        "id": "1oAcbvSjDw_b",
        "outputId": "24f89c5b-52cf-477f-cb22-452545a34ce1"
      },
      "execution_count": 9,
      "outputs": [
        {
          "output_type": "display_data",
          "data": {
            "text/plain": [
              "<Figure size 1000x500 with 2 Axes>"
            ],
            "image/png": "[encoded data removed]"
          },
          "metadata": {}
        }
      ]
    },
    {
      "cell_type": "markdown",
      "source": [
        "## Шаг 3: Оцениваем модель на противоречивых примерах"
      ],
      "metadata": {
        "id": "reC3EhEbNs5s"
      }
    },
    {
      "cell_type": "code",
      "source": [
        "#Установите количество обрабатываемых изображений\n",
        "adversarial_images = []\n",
        "# Обработка изображений\n",
        "for i in range(len(test_images)):\n",
        "    image = tf.convert_to_tensor(test_images[i], dtype=tf.float32)[None, ...]\n",
        "    label = np.argmax(test_labels[i])\n",
        "    label = tf.convert_to_tensor(label, dtype=tf.int64)\n",
        "    adversarial_images.append(advs)\n",
        "    # Конвертация списка в массив с правильной формой\n",
        "adversarial_images = tf.concat(adversarial_images, axis=0)\n",
        "# Убедитесь, что test_labels имеют соответствующее количество меток\n",
        "adversarial_loss, adversarial_acc = model.evaluate(adversarial_images, test_labels)\n",
        "print(f'Accuracy on adversarial examples (DeepFool): {adversarial_acc}')"
      ],
      "metadata": {
        "colab": {
          "base_uri": "https://localhost:8080/"
        },
        "id": "Eh6KnyMeD0q2",
        "outputId": "c969c432-b51a-4500-c2ac-4ae96ed576e5"
      },
      "execution_count": 15,
      "outputs": [
        {
          "output_type": "stream",
          "name": "stdout",
          "text": [
            "\u001b[1m313/313\u001b[0m \u001b[32m━━━━━━━━━━━━━━━━━━━━\u001b[0m\u001b[37m\u001b[0m \u001b[1m1s\u001b[0m 2ms/step - accuracy: 0.0912 - loss: 18.5248\n",
            "Accuracy on adversarial examples (DeepFool): 0.08919999748468399\n"
          ]
        }
      ]
    },
    {
      "cell_type": "markdown",
      "source": [
        "### **Вывод**: Точность модели на противоречивых примерах, созданных с использованием атаки DeepFool, резко снизилась до нуля по сравнению с чистыми данными. Это свидетельствует о высокой уязвимости модели к таким атакам, даже при минимальных изменениях в изображениях."
      ],
      "metadata": {
        "id": "3PjmzEmdM8Bw"
      }
    }
  ]
}